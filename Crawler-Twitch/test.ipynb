{
 "cells": [
  {
   "cell_type": "code",
   "execution_count": 17,
   "source": [
    "import requests\n",
    "import json"
   ],
   "outputs": [],
   "metadata": {}
  },
  {
   "cell_type": "code",
   "execution_count": 18,
   "source": [
    "def getChatLog(video_id: str, client_id: str) -> list:\n",
    "    next_cursor = \"\"\n",
    "    params = {}\n",
    "    params['client_id'] = client_id\n",
    "\n",
    "    chat_log = []\n",
    "    log_cnt = 0\n",
    "\n",
    "    # 한번의 Get요청에 약 57 ~ 59개의 comment에 대한 json파일을 load한다\n",
    "    # next_cursor는 다음 채팅데이터를 가리키고 있음\n",
    "    while True:\n",
    "        URL = \"https://api.twitch.tv/v5/videos/\" + \\\n",
    "            video_id + \"/comments?cursor=\" + next_cursor\n",
    "\n",
    "        response = requests.get(URL, params=params)\n",
    "        chat_json = json.loads(response.text)\n",
    "        chat_log.append(chat_json['comments'])\n",
    "\n",
    "        try:\n",
    "            next_cursor = chat_json[\"_next\"]\n",
    "            log_cnt += 1\n",
    "        except KeyError:\n",
    "            break\n",
    "\n",
    "    return chat_log\n"
   ],
   "outputs": [],
   "metadata": {}
  },
  {
   "cell_type": "code",
   "execution_count": null,
   "source": [
    "log = getChatLog(\"1167834289\", \"f0tc0p4p3mifcdxtwi530swm2dsw0f\")"
   ],
   "outputs": [],
   "metadata": {}
  },
  {
   "cell_type": "code",
   "execution_count": 43,
   "source": [
    "log[1][0]"
   ],
   "outputs": [
    {
     "output_type": "execute_result",
     "data": {
      "text/plain": [
       "{'_id': 'b49918e0-b73d-45a1-a504-eaed2c437da8',\n",
       " 'created_at': '2021-10-05T03:19:00.358Z',\n",
       " 'updated_at': '2021-10-05T03:19:00.358Z',\n",
       " 'channel_id': '66375105',\n",
       " 'content_type': 'video',\n",
       " 'content_id': '1167834289',\n",
       " 'content_offset_seconds': 83.658,\n",
       " 'commenter': {'display_name': '야음동지박령',\n",
       "  '_id': '635944942',\n",
       "  'name': 'jiokchammado',\n",
       "  'type': 'user',\n",
       "  'bio': None,\n",
       "  'created_at': '2021-01-13T16:10:14.638253Z',\n",
       "  'updated_at': '2021-10-04T12:30:46.08129Z',\n",
       "  'logo': 'https://static-cdn.jtvnw.net/user-default-pictures-uv/de130ab0-def7-11e9-b668-784f43822e80-profile_image-300x300.png'},\n",
       " 'source': 'chat',\n",
       " 'state': 'published',\n",
       " 'message': {'body': 'ㅅㅅ마스터죠?',\n",
       "  'fragments': [{'text': 'ㅅㅅ마스터죠?'}],\n",
       "  'is_action': False,\n",
       "  'user_badges': [{'_id': 'subscriber', 'version': '3'},\n",
       "   {'_id': 'bits', 'version': '100'}],\n",
       "  'user_notice_params': {}}}"
      ]
     },
     "metadata": {},
     "execution_count": 43
    }
   ],
   "metadata": {}
  },
  {
   "cell_type": "code",
   "execution_count": 80,
   "source": [
    "from collections import OrderedDict\n",
    "\n",
    "def LogToJson(log) -> dict:\n",
    "    index = 0\n",
    "    result = OrderedDict()\n",
    "    for l in log:\n",
    "        for comment in l:\n",
    "            msg = OrderedDict()\n",
    "            index += 1\n",
    "\n",
    "            msg['time'] = comment[\"content_offset_seconds\"]\n",
    "            msg['user_id'] = comment['commenter']['_id']\n",
    "            msg['content'] = comment['message']['body']\n",
    "\n",
    "            \n",
    "            result[\"message\" + str(index)] = msg\n",
    "\n",
    "    with open(\"./temp.json\", 'w') as outfile:\n",
    "        json.dump(result, outfile, indent = 4, ensure_ascii=False)\n",
    "    return \n"
   ],
   "outputs": [],
   "metadata": {}
  },
  {
   "cell_type": "code",
   "execution_count": 81,
   "source": [
    "LogToJson(log)"
   ],
   "outputs": [],
   "metadata": {}
  }
 ],
 "metadata": {
  "orig_nbformat": 4,
  "language_info": {
   "name": "python",
   "version": "3.8.8",
   "mimetype": "text/x-python",
   "codemirror_mode": {
    "name": "ipython",
    "version": 3
   },
   "pygments_lexer": "ipython3",
   "nbconvert_exporter": "python",
   "file_extension": ".py"
  },
  "kernelspec": {
   "name": "python3",
   "display_name": "Python 3.8.8 64-bit ('base': conda)"
  },
  "interpreter": {
   "hash": "cf7def2318a53c2d43e55e5138c2f0e97f94409a046d6be20c94d7d193fed511"
  }
 },
 "nbformat": 4,
 "nbformat_minor": 2
}