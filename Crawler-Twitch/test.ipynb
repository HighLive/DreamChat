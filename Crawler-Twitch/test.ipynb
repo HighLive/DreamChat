{
 "cells": [
  {
   "cell_type": "code",
   "execution_count": 1,
   "source": [
    "import requests\n",
    "import json"
   ],
   "outputs": [],
   "metadata": {}
  },
  {
   "cell_type": "code",
   "execution_count": 2,
   "source": [
    "def getChatLog(video_id: str, client_id: str) -> list:\n",
    "    next_cursor = \"\"\n",
    "    params = {}\n",
    "    params['client_id'] = client_id\n",
    "\n",
    "    chat_log = []\n",
    "    log_cnt = 0\n",
    "\n",
    "    # 한번의 Get요청에 약 57 ~ 59개의 comment에 대한 json파일을 load한다\n",
    "    # next_cursor는 다음 채팅데이터를 가리키고 있음\n",
    "    while True:\n",
    "        URL = \"https://api.twitch.tv/v5/videos/\" + \\\n",
    "            video_id + \"/comments?cursor=\" + next_cursor\n",
    "\n",
    "        response = requests.get(URL, params=params)\n",
    "        chat_json = json.loads(response.text)\n",
    "        chat_log.append(chat_json['comments'])\n",
    "\n",
    "        try:\n",
    "            next_cursor = chat_json[\"_next\"]\n",
    "            log_cnt += 1\n",
    "        except KeyError:\n",
    "            break\n",
    "\n",
    "    return chat_log\n"
   ],
   "outputs": [],
   "metadata": {}
  },
  {
   "cell_type": "code",
   "execution_count": 3,
   "source": [
    "log = getChatLog(\"1167834289\", \"f0tc0p4p3mifcdxtwi530swm2dsw0f\")"
   ],
   "outputs": [],
   "metadata": {}
  },
  {
   "cell_type": "code",
   "execution_count": 1,
   "source": [
    "from collections import OrderedDict\n",
    "\n",
    "# list(Json) 객체를 받아 ./temp.json 으로 저장\n",
    "def LogToJson(log):\n",
    "    index = 0\n",
    "    result = OrderedDict()\n",
    "    for l in log:\n",
    "        for comment in l:\n",
    "            msg = OrderedDict()\n",
    "            index += 1\n",
    "\n",
    "            msg['time'] = comment[\"content_offset_seconds\"]\n",
    "            msg['user_id'] = comment['commenter']['_id']\n",
    "            msg['content'] = comment['message']['body']\n",
    "\n",
    "            \n",
    "            result[\"message\" + str(index)] = msg\n",
    "\n",
    "    with open(\"./temp.json\", 'w') as outfile:\n",
    "        json.dump(result, outfile, indent = 4, ensure_ascii=False)\n",
    "    return \n"
   ],
   "outputs": [],
   "metadata": {}
  },
  {
   "cell_type": "code",
   "execution_count": null,
   "source": [
    "LogToJson(log)"
   ],
   "outputs": [],
   "metadata": {}
  }
 ],
 "metadata": {
  "orig_nbformat": 4,
  "language_info": {
   "name": "python",
   "version": "3.8.8",
   "mimetype": "text/x-python",
   "codemirror_mode": {
    "name": "ipython",
    "version": 3
   },
   "pygments_lexer": "ipython3",
   "nbconvert_exporter": "python",
   "file_extension": ".py"
  },
  "kernelspec": {
   "name": "python3",
   "display_name": "Python 3.8.8 64-bit ('base': conda)"
  },
  "interpreter": {
   "hash": "cf7def2318a53c2d43e55e5138c2f0e97f94409a046d6be20c94d7d193fed511"
  }
 },
 "nbformat": 4,
 "nbformat_minor": 2
}