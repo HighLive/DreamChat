{
 "cells": [
  {
   "cell_type": "code",
   "execution_count": 1,
   "metadata": {},
   "outputs": [],
   "source": [
    "import requests\n",
    "import json"
   ]
  },
  {
   "cell_type": "code",
   "execution_count": 2,
   "metadata": {},
   "outputs": [],
   "source": [
    "# video_id는 twitch 다시보기 컨텐츠 url의 뒷부분, client_id는 twitch api를 이용하기 위한 id(따로 발급 받을거 아니면 안바꿔도 됨)\n",
    "# video_id example (https://www.twitch.tv/videos/1167834289) -> 1167834289\n",
    "def getChatLog(video_id: str, client_id: str) -> list:\n",
    "    next_cursor = \"\"\n",
    "    params = {}\n",
    "    params['client_id'] = client_id\n",
    "\n",
    "    chat_log = []\n",
    "    log_cnt = 0\n",
    "\n",
    "    # 한번의 Get요청에 약 57 ~ 59개의 comment에 대한 json파일을 load한다\n",
    "    # next_cursor는 다음 채팅데이터를 가리키고 있음\n",
    "    while True:\n",
    "        URL = \"https://api.twitch.tv/v5/videos/\" + \\\n",
    "            video_id + \"/comments?cursor=\" + next_cursor\n",
    "\n",
    "        response = requests.get(URL, params=params)\n",
    "        chat_json = json.loads(response.text)\n",
    "        chat_log.append(chat_json['comments'])\n",
    "\n",
    "        try:\n",
    "            next_cursor = chat_json[\"_next\"]\n",
    "            log_cnt += 1\n",
    "        except KeyError:\n",
    "            break\n",
    "\n",
    "    return chat_log\n"
   ]
  },
  {
   "cell_type": "code",
   "execution_count": 3,
   "metadata": {},
   "outputs": [],
   "source": [
    "log = getChatLog(\"1167834289\", \"f0tc0p4p3mifcdxtwi530swm2dsw0f\")"
   ]
  },
  {
   "cell_type": "code",
   "execution_count": 1,
   "metadata": {},
   "outputs": [],
   "source": [
    "from collections import OrderedDict\n",
    "\n",
    "# list(Json) 객체를 받아 ./temp.json 으로 저장\n",
    "def LogToJson(log):\n",
    "    index = 0\n",
    "    result = OrderedDict()\n",
    "    for l in log:\n",
    "        for comment in l:\n",
    "            msg = OrderedDict()\n",
    "            index += 1\n",
    "\n",
    "            msg['time'] = comment[\"content_offset_seconds\"]\n",
    "            msg['user_id'] = comment['commenter']['_id']\n",
    "            msg['content'] = comment['message']['body']\n",
    "\n",
    "            \n",
    "            result[\"message\" + str(index)] = msg\n",
    "\n",
    "    with open(\"./temp.json\", 'w') as outfile:\n",
    "        json.dump(result, outfile, indent = 4, ensure_ascii=False)\n",
    "    return \n"
   ]
  },
  {
   "cell_type": "code",
   "execution_count": null,
   "metadata": {},
   "outputs": [],
   "source": [
    "LogToJson(log)"
   ]
  }
 ],
 "metadata": {
  "interpreter": {
   "hash": "cf7def2318a53c2d43e55e5138c2f0e97f94409a046d6be20c94d7d193fed511"
  },
  "kernelspec": {
   "display_name": "Python 3.8.8 64-bit ('base': conda)",
   "name": "python3"
  },
  "language_info": {
   "codemirror_mode": {
    "name": "ipython",
    "version": 3
   },
   "file_extension": ".py",
   "mimetype": "text/x-python",
   "name": "python",
   "nbconvert_exporter": "python",
   "pygments_lexer": "ipython3",
   "version": "3.8.8"
  },
  "orig_nbformat": 4
 },
 "nbformat": 4,
 "nbformat_minor": 2
}
